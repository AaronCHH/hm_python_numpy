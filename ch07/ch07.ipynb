{
 "cells": [
  {
   "cell_type": "code",
   "execution_count": 44,
   "id": "dd85b726-ab60-47ac-95ba-3bf471371ff9",
   "metadata": {},
   "outputs": [
    {
     "name": "stdout",
     "output_type": "stream",
     "text": [
      "<class 'numpy.ndarray'> <class 'numpy.ndarray'>\n",
      "---------------------------\n",
      "1 2 3 4 5\n",
      "---------------------------\n",
      "[5 2 3 4 5]\n",
      "---------------------------\n",
      "[5 2 3 4 0]\n"
     ]
    }
   ],
   "source": [
    "# %load ch7-2-2.py\n",
    "import numpy as np\n",
    "\n",
    "a = np.array([1, 2, 3, 4, 5])\n",
    "b = np.array((1, 2, 3, 4, 5))\n",
    "print(type(a), type(b))\n",
    "print(\"---------------------------\")\n",
    "print(a[0], a[1], a[2], a[3], a[4])\n",
    "print(\"---------------------------\")\n",
    "b[0] = 5\n",
    "print(b)\n",
    "print(\"---------------------------\")\n",
    "b[4] = 0\n",
    "print(b)"
   ]
  },
  {
   "cell_type": "code",
   "execution_count": 45,
   "id": "e10acb65-aa80-49c1-ada8-28398649cbe1",
   "metadata": {},
   "outputs": [
    {
     "name": "stdout",
     "output_type": "stream",
     "text": [
      "1 2 3\n",
      "4 5 6\n",
      "---------------------------\n",
      "[[6 2 3]\n",
      " [4 5 1]]\n"
     ]
    }
   ],
   "source": [
    "# %load ch7-2-2a.py\n",
    "import numpy as np\n",
    "\n",
    "a = np.array([[1, 2, 3], [4, 5, 6]])\n",
    "print(a[0, 0], a[0, 1], a[0, 2])\n",
    "print(a[1, 0], a[1, 1], a[1, 2])\n",
    "print(\"---------------------------\")\n",
    "a[0, 0] = 6\n",
    "a[1, 2] = 1\n",
    "print(a)"
   ]
  },
  {
   "cell_type": "code",
   "execution_count": 46,
   "id": "6d00715e-caff-4fac-a234-be3947f6dc75",
   "metadata": {},
   "outputs": [
    {
     "name": "stdout",
     "output_type": "stream",
     "text": [
      "[1 2 3 4 5]\n",
      "---------------------------\n",
      "[1. 2. 3. 4. 5.]\n"
     ]
    }
   ],
   "source": [
    "# %load ch7-2-2b.py\n",
    "import numpy as np\n",
    "\n",
    "a = np.array([1, 2, 3, 4, 5], int)\n",
    "b = np.array((1, 2, 3, 4, 5), dtype=float)\n",
    "print(a)\n",
    "print(\"---------------------------\")\n",
    "print(b)"
   ]
  },
  {
   "cell_type": "code",
   "execution_count": 47,
   "id": "40252761-e542-4356-8e5b-79c413774b9e",
   "metadata": {},
   "outputs": [
    {
     "name": "stdout",
     "output_type": "stream",
     "text": [
      "[0 1 2 3 4]\n",
      "---------------------------\n",
      "[1 3 5]\n",
      "===========================\n",
      "[0. 0.]\n",
      "---------------------------\n",
      "[[0. 0.]\n",
      " [0. 0.]]\n",
      "===========================\n",
      "[1. 1.]\n",
      "---------------------------\n",
      "[[1. 1.]\n",
      " [1. 1.]]\n",
      "===========================\n",
      "[7 7]\n",
      "---------------------------\n",
      "[[7 7]\n",
      " [7 7]]\n"
     ]
    }
   ],
   "source": [
    "# %load ch7-2-2c.py\n",
    "import numpy as np\n",
    "\n",
    "a = np.arange(5)\n",
    "print(a)\n",
    "print(\"---------------------------\")\n",
    "b = np.arange(1, 6, 2)\n",
    "print(b)\n",
    "print(\"===========================\")\n",
    "c = np.zeros(2)\n",
    "print(c)\n",
    "print(\"---------------------------\")\n",
    "d = np.zeros((2, 2))\n",
    "print(d)\n",
    "print(\"===========================\")\n",
    "e = np.ones(2)\n",
    "print(e)\n",
    "print(\"---------------------------\")\n",
    "f = np.ones((2, 2))\n",
    "print(f)\n",
    "print(\"===========================\")\n",
    "g = np.full(2, 7)\n",
    "print(g)\n",
    "print(\"---------------------------\")\n",
    "h = np.full((2, 2), 7)\n",
    "print(h)"
   ]
  },
  {
   "cell_type": "code",
   "execution_count": 48,
   "id": "94fc6ede-1e18-4ded-ba10-051a1c39764d",
   "metadata": {},
   "outputs": [
    {
     "name": "stdout",
     "output_type": "stream",
     "text": [
      "[[0 0 0]\n",
      " [0 0 0]]\n",
      "===========================\n",
      "[[1 1 1]\n",
      " [1 1 1]]\n",
      "===========================\n",
      "[[1. 0. 0.]\n",
      " [0. 1. 0.]\n",
      " [0. 0. 1.]]\n",
      "---------------------------\n",
      "[[0. 1. 0.]\n",
      " [0. 0. 1.]\n",
      " [0. 0. 0.]]\n",
      "===========================\n",
      "[0.92534527 0.99583209 0.52920859]\n",
      "---------------------------\n",
      "[[0.8095968  0.40625608 0.79990946]\n",
      " [0.94664654 0.91128269 0.55789347]\n",
      " [0.19656467 0.80484721 0.05917852]]\n"
     ]
    }
   ],
   "source": [
    "# %load ch7-2-2d.py\n",
    "import numpy as np\n",
    "\n",
    "a = np.array([[1, 2, 3], [4, 5, 6]])\n",
    "b = np.zeros_like(a)\n",
    "print(b)\n",
    "print(\"===========================\")\n",
    "c = np.ones_like(a)\n",
    "print(c)\n",
    "print(\"===========================\")\n",
    "d = np.eye(3)\n",
    "print(d)\n",
    "print(\"---------------------------\")\n",
    "e = np.eye(3, k=1)\n",
    "print(e)\n",
    "print(\"===========================\")\n",
    "f = np.random.rand(3)\n",
    "print(f)\n",
    "print(\"---------------------------\")\n",
    "g = np.random.rand(3, 3)\n",
    "print(g)"
   ]
  },
  {
   "cell_type": "code",
   "execution_count": 49,
   "id": "ce4e846d-e3db-42c2-8491-eab98fae0df6",
   "metadata": {},
   "outputs": [
    {
     "name": "stdout",
     "output_type": "stream",
     "text": [
      "[ 0  1  2  3  4  5  6  7  8  9 10 11 12 13 14 15]\n",
      "---------------------------\n",
      "[[ 0  1  2  3]\n",
      " [ 4  5  6  7]\n",
      " [ 8  9 10 11]\n",
      " [12 13 14 15]]\n",
      "===========================\n",
      "[0. 1. 2. 3. 4. 5. 6. 7. 8. 9.]\n",
      "---------------------------\n",
      "[[0. 1.]\n",
      " [2. 3.]\n",
      " [4. 5.]\n",
      " [6. 7.]\n",
      " [8. 9.]]\n"
     ]
    }
   ],
   "source": [
    "# %load ch7-2-2e.py\n",
    "import numpy as np\n",
    "\n",
    "a = np.arange(16)\n",
    "print(a)\n",
    "print(\"---------------------------\")\n",
    "b = a.reshape((4, 4))\n",
    "print(b)\n",
    "print(\"===========================\")\n",
    "c = np.array(range(10), float)\n",
    "print(c)\n",
    "print(\"---------------------------\")\n",
    "d = c.reshape((5, 2))\n",
    "print(d)"
   ]
  },
  {
   "cell_type": "code",
   "execution_count": 50,
   "id": "11110474-6199-4de2-8f7b-7c9f916af1c0",
   "metadata": {},
   "outputs": [
    {
     "name": "stdout",
     "output_type": "stream",
     "text": [
      "<class 'numpy.ndarray'>\n",
      "int32\n",
      "25\n",
      "(5, 5)\n",
      "4\n",
      "2\n",
      "100\n"
     ]
    }
   ],
   "source": [
    "# %load ch7-2-3.py\n",
    "import numpy as np\n",
    "\n",
    "a = np.array([[11, 12, 13, 14, 15],\n",
    "              [16, 17, 18, 19, 20],\n",
    "              [21, 22, 23, 24, 25],\n",
    "              [26, 27, 28, 29, 30],\n",
    "              [31, 32, 33, 34, 35]])\n",
    "\n",
    "print(type(a))\n",
    "print(a.dtype)\n",
    "print(a.size)\n",
    "print(a.shape)\n",
    "print(a.itemsize)\n",
    "print(a.ndim)\n",
    "print(a.nbytes)"
   ]
  },
  {
   "cell_type": "code",
   "execution_count": 51,
   "id": "574466df-c65e-47b1-ba59-9d09a8fde47d",
   "metadata": {},
   "outputs": [
    {
     "name": "stdout",
     "output_type": "stream",
     "text": [
      "1\n",
      "2\n",
      "3\n",
      "4\n",
      "5\n"
     ]
    }
   ],
   "source": [
    "# %load ch7-2-4.py\n",
    "import numpy as np\n",
    "\n",
    "a = np.array([1, 2, 3, 4, 5])\n",
    "for ele in a:\n",
    "  print(ele)"
   ]
  },
  {
   "cell_type": "code",
   "execution_count": 52,
   "id": "16bc46d8-06c5-4024-ab5c-acb75da3a0e3",
   "metadata": {},
   "outputs": [
    {
     "name": "stdout",
     "output_type": "stream",
     "text": [
      "[1 2]\n",
      "[3 4]\n",
      "[5 6]\n",
      "---------------------------\n",
      "1 2 3 4 5 6 "
     ]
    }
   ],
   "source": [
    "# %load ch7-2-4a.py\n",
    "import numpy as np\n",
    "\n",
    "a = np.array([[1, 2], [3, 4], [5, 6]])\n",
    "for ele in a:\n",
    "  print(ele)\n",
    "print(\"---------------------------\")\n",
    "for ele in a:\n",
    "  for item in ele:\n",
    "    print(str(item) + \" \", end=\"\")"
   ]
  },
  {
   "cell_type": "code",
   "execution_count": 53,
   "id": "ff405ca3-e093-4fc2-a790-912c53bcce29",
   "metadata": {},
   "outputs": [],
   "source": [
    "# %load ch7-2-5.py\n",
    "import numpy as np\n",
    "\n",
    "a = np.arange(10)\n",
    "outputfile = \"Example.npy\"\n",
    "with open(outputfile, 'wb') as fp:\n",
    "  np.save(fp, a)"
   ]
  },
  {
   "cell_type": "code",
   "execution_count": 54,
   "id": "51bddd70-88df-4efb-8bc6-5aafd2a3aed7",
   "metadata": {},
   "outputs": [],
   "source": [
    "# %load ch7-2-5a.py\n",
    "import numpy as np\n",
    "\n",
    "a = np.array([[1, 2, 3], [4, 5, 6]])\n",
    "outputfile = \"Example.out\"\n",
    "np.savetxt(outputfile, a, delimiter=',')"
   ]
  },
  {
   "cell_type": "code",
   "execution_count": 55,
   "id": "3f0caaee-2429-4cf5-b4f6-91b333394d8d",
   "metadata": {},
   "outputs": [
    {
     "name": "stdout",
     "output_type": "stream",
     "text": [
      "[0 1 2 3 4 5 6 7 8 9]\n"
     ]
    }
   ],
   "source": [
    "# %load ch7-2-5b.py\n",
    "import numpy as np\n",
    "\n",
    "outputfile = \"Example.npy\"\n",
    "with open(outputfile, 'rb') as fp:\n",
    "  a = np.load(fp)\n",
    "print(a)"
   ]
  },
  {
   "cell_type": "code",
   "execution_count": 56,
   "id": "c89dc020-e82f-44ad-be81-6f67c3d6e874",
   "metadata": {},
   "outputs": [
    {
     "name": "stdout",
     "output_type": "stream",
     "text": [
      "[[1. 2. 3.]\n",
      " [4. 5. 6.]]\n"
     ]
    }
   ],
   "source": [
    "# %load ch7-2-5c.py\n",
    "import numpy as np\n",
    "\n",
    "outputfile = \"Example.out\"\n",
    "a = np.loadtxt(outputfile, delimiter=',')\n",
    "print(a)"
   ]
  },
  {
   "cell_type": "code",
   "execution_count": 57,
   "id": "8f5b4490-71ac-4e21-b741-3b7642d96c82",
   "metadata": {},
   "outputs": [
    {
     "name": "stdout",
     "output_type": "stream",
     "text": [
      "a=[1 2 3]\n",
      "s=5\n",
      "a+s=[6 7 8]\n",
      "a-s=[-4 -3 -2]\n",
      "a*s=[ 5 10 15]\n",
      "a/s=[0.2 0.4 0.6]\n"
     ]
    }
   ],
   "source": [
    "# %load ch7-3-1.py\n",
    "import numpy as np\n",
    "\n",
    "a = np.array([1, 2, 3])\n",
    "print(\"a=\" + str(a))\n",
    "s = 5\n",
    "print(\"s=\" + str(s))\n",
    "b = a + s\n",
    "print(\"a+s=\" + str(b))\n",
    "b = a - s\n",
    "print(\"a-s=\" + str(b))\n",
    "b = a * s\n",
    "print(\"a*s=\" + str(b))\n",
    "b = a / s\n",
    "print(\"a/s=\" + str(b))"
   ]
  },
  {
   "cell_type": "code",
   "execution_count": 58,
   "id": "8d25cece-53ab-4f62-99de-e779b9eee005",
   "metadata": {},
   "outputs": [
    {
     "name": "stdout",
     "output_type": "stream",
     "text": [
      "a=[1 2 3]\n",
      "s=5\n",
      "np.add(a,s)=[6 7 8]\n",
      "np.subtract(a,s)=[-4 -3 -2]\n",
      "np.multiply(a,s)=[ 5 10 15]\n",
      "np.divide(a,s)=[0.2 0.4 0.6]\n"
     ]
    }
   ],
   "source": [
    "# %load ch7-3-1a.py\n",
    "import numpy as np\n",
    "\n",
    "a = np.array([1, 2, 3])\n",
    "print(\"a=\" + str(a))\n",
    "s = 5\n",
    "print(\"s=\" + str(s))\n",
    "b = np.add(a, s)\n",
    "print(\"np.add(a,s)=\" + str(b))\n",
    "b = np.subtract(a, s)\n",
    "print(\"np.subtract(a,s)=\" + str(b))\n",
    "b = np.multiply(a, s)\n",
    "print(\"np.multiply(a,s)=\" + str(b))\n",
    "b = np.divide(a, s)\n",
    "print(\"np.divide(a,s)=\" + str(b))"
   ]
  },
  {
   "cell_type": "code",
   "execution_count": 59,
   "id": "3031cd3c-06b6-4537-b9a6-a9c2cb00f329",
   "metadata": {},
   "outputs": [
    {
     "name": "stdout",
     "output_type": "stream",
     "text": [
      "a=[1 2 3]\n",
      "s=[4 5 6]\n",
      "a+s=[5 7 9]\n",
      "a-s=[-3 -3 -3]\n",
      "a*s=[ 4 10 18]\n",
      "a/s=[0.25 0.4  0.5 ]\n"
     ]
    }
   ],
   "source": [
    "# %load ch7-3-1b.py\n",
    "import numpy as np\n",
    "\n",
    "a = np.array([1, 2, 3])\n",
    "print(\"a=\" + str(a))\n",
    "s = np.array([4, 5, 6])\n",
    "print(\"s=\" + str(s))\n",
    "b = a + s\n",
    "print(\"a+s=\" + str(b))\n",
    "b = a - s\n",
    "print(\"a-s=\" + str(b))\n",
    "b = a * s\n",
    "print(\"a*s=\" + str(b))\n",
    "b = a / s\n",
    "print(\"a/s=\" + str(b))"
   ]
  },
  {
   "cell_type": "code",
   "execution_count": 60,
   "id": "aa54fd8a-d42b-4d50-9e06-1aa50c6ff401",
   "metadata": {},
   "outputs": [
    {
     "name": "stdout",
     "output_type": "stream",
     "text": [
      "c=[1 2 3]\n",
      "s=[4 5 6]\n",
      "np.add(a,s)=[5 7 9]\n",
      "np.subtract(a,s)=[-3 -3 -3]\n",
      "np.multiply(a,s)=[ 4 10 18]\n",
      "np.divide(a,s)=[0.25 0.4  0.5 ]\n"
     ]
    }
   ],
   "source": [
    "# %load ch7-3-1c.py\n",
    "import numpy as np\n",
    "\n",
    "a = np.array([1, 2, 3])\n",
    "print(\"c=\" + str(a))\n",
    "s = np.array([4, 5, 6])\n",
    "print(\"s=\" + str(s))\n",
    "b = np.add(a, s)\n",
    "print(\"np.add(a,s)=\" + str(b))\n",
    "b = np.subtract(a, s)\n",
    "print(\"np.subtract(a,s)=\" + str(b))\n",
    "b = np.multiply(a, s)\n",
    "print(\"np.multiply(a,s)=\" + str(b))\n",
    "b = np.divide(a, s)\n",
    "print(\"np.divide(a,s)=\" + str(b))"
   ]
  },
  {
   "cell_type": "code",
   "execution_count": 61,
   "id": "9380d559-7517-4ee9-aee7-571f0b9cbda6",
   "metadata": {},
   "outputs": [
    {
     "name": "stdout",
     "output_type": "stream",
     "text": [
      "a=[1 2 3]\n",
      "s=[4 5 6]\n",
      "a.dot(s)=32\n"
     ]
    }
   ],
   "source": [
    "# %load ch7-3-1d.py\n",
    "import numpy as np\n",
    "\n",
    "a = np.array([1, 2, 3])\n",
    "print(\"a=\" + str(a))\n",
    "s = np.array([4, 5, 6])\n",
    "print(\"s=\" + str(s))\n",
    "b = a.dot(s)\n",
    "print(\"a.dot(s)=\" + str(b))"
   ]
  },
  {
   "cell_type": "code",
   "execution_count": 62,
   "id": "1b4fbe07-bd1e-4982-9dc3-52c271a4d26e",
   "metadata": {},
   "outputs": [
    {
     "name": "stdout",
     "output_type": "stream",
     "text": [
      "a=[1 2 3 4 5 6 7 8 9]\n",
      "a[1:3]=[2 3]\n",
      "a[:4]=[1 2 3 4]\n",
      "a[3:]=[4 5 6 7 8 9]\n",
      "a[2:9:3]=[3 6 9]\n",
      "a[::2]=[1 3 5 7 9]\n",
      "a[::-1]=[9 8 7 6 5 4 3 2 1]\n",
      "a[2:-2]=[3 4 5 6 7]\n"
     ]
    }
   ],
   "source": [
    "# %load ch7-3-2.py\n",
    "import numpy as np\n",
    "\n",
    "a = np.array([1, 2, 3, 4, 5, 6, 7, 8, 9])\n",
    "print(\"a=\" + str(a))\n",
    "\n",
    "b = a[1:3]     # 索引 1,2\n",
    "print(\"a[1:3]=\" + str(b))\n",
    "b = a[:4]      # 索引 0,1,2,3\n",
    "print(\"a[:4]=\" + str(b))\n",
    "b = a[3:]      # 索引 3,4,5,6,7,8\n",
    "print(\"a[3:]=\" + str(b))\n",
    "b = a[2:9:3]   # 索引 2,5,8\n",
    "print(\"a[2:9:3]=\" + str(b))\n",
    "b = a[::2]     # 索引 0,2,4,6,8\n",
    "print(\"a[::2]=\" + str(b))\n",
    "b = a[::-1]    # 索引 8,7,6,5,4,3,2,1,0\n",
    "print(\"a[::-1]=\" + str(b))\n",
    "b = a[2:-2]    # 索引 8,7,6,5,4,3,2,1,0\n",
    "print(\"a[2:-2]=\" + str(b))"
   ]
  },
  {
   "cell_type": "code",
   "execution_count": 63,
   "id": "9e73d5ce-9efb-4d67-b0f5-7d908077379b",
   "metadata": {},
   "outputs": [
    {
     "name": "stdout",
     "output_type": "stream",
     "text": [
      "a=[1 2 3 4 5 6 7 8 9]\n",
      "1 3 9\n",
      "a[[1,3,5,7]]=[2 4 6 8]\n",
      "a[range(6)]=[1 2 3 4 5 6]\n",
      "a[[2,6]]=10->[ 1  2 10  4  5  6 10  8  9]\n"
     ]
    }
   ],
   "source": [
    "# %load ch7-3-3.py\n",
    "import numpy as np\n",
    "\n",
    "a = np.array([1, 2, 3, 4, 5, 6, 7, 8, 9])\n",
    "print(\"a=\" + str(a))\n",
    "\n",
    "print(a[0], a[2], a[-1])  # 索引 0,2,最後1個\n",
    "b = a[[1, 3, 5, 7]]       # 索引 1,3,5,7\n",
    "print(\"a[[1,3,5,7]]=\" + str(b))\n",
    "b = a[range(6)]           # 索引 0,1,2,3,4,5\n",
    "print(\"a[range(6)]=\" + str(b))\n",
    "a[[2, 6]] = 10            # 同時更改多個索引值\n",
    "print(\"a[[2,6]]=10->\" + str(a))"
   ]
  },
  {
   "cell_type": "code",
   "execution_count": 64,
   "id": "90687b7d-be6f-4ed2-a7d6-17be82ff0557",
   "metadata": {},
   "outputs": [
    {
     "name": "stdout",
     "output_type": "stream",
     "text": [
      "a=[14  8 10 11  6  3 18 13 12  9]\n",
      "mask=[False False False False  True  True  True False  True  True]\n",
      "a[mask]=[ 6  3 18 12  9]\n",
      "a[a%3==0]=-1->[14  8 10 11 -1 -1 -1 13 -1 -1]\n"
     ]
    }
   ],
   "source": [
    "# %load ch7-3-3a.py\n",
    "import numpy as np\n",
    "\n",
    "a = np.array([14, 8, 10, 11, 6, 3, 18, 13, 12, 9])\n",
    "print(\"a=\" + str(a))\n",
    "mask = (a % 3 == 0)        # 建立布林值陣列\n",
    "print(\"mask=\" + str(mask))\n",
    "b = a[mask]                # 使用布林值陣列取出值\n",
    "print(\"a[mask]=\" + str(b))\n",
    "a[a % 3 == 0] = -1         # 同時更改多個True索引\n",
    "print(\"a[a%3==0]=-1->\" + str(a))"
   ]
  },
  {
   "cell_type": "code",
   "execution_count": 65,
   "id": "9fecd852-60ae-4adb-9534-9313d9a79f99",
   "metadata": {},
   "outputs": [
    {
     "name": "stdout",
     "output_type": "stream",
     "text": [
      "a=\n",
      "[[1 2 3]\n",
      " [4 5 6]]\n",
      "s=5\n",
      "a+s=\n",
      "[[ 6  7  8]\n",
      " [ 9 10 11]]\n",
      "a-s=\n",
      "[[-4 -3 -2]\n",
      " [-1  0  1]]\n",
      "a*s=\n",
      "[[ 5 10 15]\n",
      " [20 25 30]]\n",
      "a/s=\n",
      "[[0.2 0.4 0.6]\n",
      " [0.8 1.  1.2]]\n"
     ]
    }
   ],
   "source": [
    "# %load ch7-4-1.py\n",
    "import numpy as np\n",
    "\n",
    "a = np.array([[1, 2, 3], [4, 5, 6]])\n",
    "print(\"a=\")\n",
    "print(a)\n",
    "s = 5\n",
    "print(\"s=\" + str(s))\n",
    "b = a + s\n",
    "print(\"a+s=\")\n",
    "print(b)\n",
    "b = a - s\n",
    "print(\"a-s=\")\n",
    "print(b)\n",
    "b = a * s\n",
    "print(\"a*s=\")\n",
    "print(b)\n",
    "b = a / s\n",
    "print(\"a/s=\")\n",
    "print(b)"
   ]
  },
  {
   "cell_type": "code",
   "execution_count": 66,
   "id": "5da53c35-b89d-428d-89c4-a6d75867a9c5",
   "metadata": {},
   "outputs": [
    {
     "name": "stdout",
     "output_type": "stream",
     "text": [
      "a=\n",
      "[[1 2 3]\n",
      " [4 5 6]]\n",
      "s=5\n",
      "np.add(a,s)=\n",
      "[[ 6  7  8]\n",
      " [ 9 10 11]]\n",
      "np.subtract(a,s)=\n",
      "[[-4 -3 -2]\n",
      " [-1  0  1]]\n",
      "np.multiply(a,s)=\n",
      "[[ 5 10 15]\n",
      " [20 25 30]]\n",
      "np.divide(a,s)=\n",
      "[[0.2 0.4 0.6]\n",
      " [0.8 1.  1.2]]\n"
     ]
    }
   ],
   "source": [
    "# %load ch7-4-1a.py\n",
    "import numpy as np\n",
    "\n",
    "a = np.array([[1, 2, 3], [4, 5, 6]])\n",
    "print(\"a=\")\n",
    "print(a)\n",
    "s = 5\n",
    "print(\"s=\" + str(s))\n",
    "b = np.add(a, s)\n",
    "print(\"np.add(a,s)=\")\n",
    "print(b)\n",
    "b = np.subtract(a, s)\n",
    "print(\"np.subtract(a,s)=\")\n",
    "print(b)\n",
    "b = np.multiply(a, s)\n",
    "print(\"np.multiply(a,s)=\")\n",
    "print(b)\n",
    "b = np.divide(a, s)\n",
    "print(\"np.divide(a,s)=\")\n",
    "print(b)"
   ]
  },
  {
   "cell_type": "code",
   "execution_count": 67,
   "id": "2c42722a-3e60-4aec-bb51-cb91ecd738f3",
   "metadata": {},
   "outputs": [
    {
     "name": "stdout",
     "output_type": "stream",
     "text": [
      "a=\n",
      "[[1 2]\n",
      " [3 4]]\n",
      "s=\n",
      "[[5 6]\n",
      " [7 8]]\n",
      "a+s=\n",
      "[[ 6  8]\n",
      " [10 12]]\n",
      "a-s=\n",
      "[[-4 -4]\n",
      " [-4 -4]]\n",
      "a*s=\n",
      "[[ 5 12]\n",
      " [21 32]]\n",
      "a/s=\n",
      "[[0.2        0.33333333]\n",
      " [0.42857143 0.5       ]]\n"
     ]
    }
   ],
   "source": [
    "# %load ch7-4-1b.py\n",
    "import numpy as np\n",
    "\n",
    "a = np.array([[1, 2], [3, 4]])\n",
    "print(\"a=\")\n",
    "print(a)\n",
    "s = np.array([[5, 6], [7, 8]])\n",
    "print(\"s=\")\n",
    "print(s)\n",
    "b = a + s\n",
    "print(\"a+s=\")\n",
    "print(b)\n",
    "b = a - s\n",
    "print(\"a-s=\")\n",
    "print(b)\n",
    "b = a * s\n",
    "print(\"a*s=\")\n",
    "print(b)\n",
    "b = a / s\n",
    "print(\"a/s=\")\n",
    "print(b)"
   ]
  },
  {
   "cell_type": "code",
   "execution_count": 68,
   "id": "ea6855c3-8d2d-4d6e-a393-2400ab97a668",
   "metadata": {},
   "outputs": [
    {
     "name": "stdout",
     "output_type": "stream",
     "text": [
      "a=\n",
      "[[1 2]\n",
      " [3 4]]\n",
      "s=\n",
      "[[5 6]\n",
      " [7 8]]\n",
      "np.add(a,s)=\n",
      "[[ 6  8]\n",
      " [10 12]]\n",
      "np.subtract(a,s)=\n",
      "[[-4 -4]\n",
      " [-4 -4]]\n",
      "np.multiply(a,s)=\n",
      "[[ 5 12]\n",
      " [21 32]]\n",
      "np.divide(a,s)=\n",
      "[[0.2        0.33333333]\n",
      " [0.42857143 0.5       ]]\n"
     ]
    }
   ],
   "source": [
    "# %load ch7-4-1c.py\n",
    "import numpy as np\n",
    "\n",
    "a = np.array([[1, 2], [3, 4]])\n",
    "print(\"a=\")\n",
    "print(a)\n",
    "s = np.array([[5, 6], [7, 8]])\n",
    "print(\"s=\")\n",
    "print(s)\n",
    "b = np.add(a, s)\n",
    "print(\"np.add(a,s)=\")\n",
    "print(b)\n",
    "b = np.subtract(a, s)\n",
    "print(\"np.subtract(a,s)=\")\n",
    "print(b)\n",
    "b = np.multiply(a, s)\n",
    "print(\"np.multiply(a,s)=\")\n",
    "print(b)\n",
    "b = np.divide(a, s)\n",
    "print(\"np.divide(a,s)=\")\n",
    "print(b)"
   ]
  },
  {
   "cell_type": "code",
   "execution_count": 69,
   "id": "8799d0fc-d81a-4f24-8603-04ef813f1f2c",
   "metadata": {},
   "outputs": [
    {
     "name": "stdout",
     "output_type": "stream",
     "text": [
      "a=\n",
      "[[1 2]\n",
      " [3 4]]\n",
      "s=\n",
      "[[5 6]\n",
      " [7 8]]\n",
      "a.dot(s)=\n",
      "[[19 22]\n",
      " [43 50]]\n"
     ]
    }
   ],
   "source": [
    "# %load ch7-4-1d.py\n",
    "import numpy as np\n",
    "\n",
    "a = np.array([[1, 2], [3, 4]])\n",
    "print(\"a=\")\n",
    "print(a)\n",
    "s = np.array([[5, 6], [7, 8]])\n",
    "print(\"s=\")\n",
    "print(s)\n",
    "b = a.dot(s)\n",
    "print(\"a.dot(s)=\")\n",
    "print(b)"
   ]
  },
  {
   "cell_type": "code",
   "execution_count": 70,
   "id": "00b3da02-dc0b-4f5c-a4a4-f9dd395707dc",
   "metadata": {},
   "outputs": [
    {
     "name": "stdout",
     "output_type": "stream",
     "text": [
      "a=\n",
      "[[11 12 13 14 15]\n",
      " [16 17 18 19 20]\n",
      " [21 22 23 24 25]\n",
      " [26 27 28 29 30]\n",
      " [31 32 33 34 35]]\n",
      "a[0,1:4]=\n",
      "[12 13 14]\n",
      "a[1:4,0]=\n",
      "[16 21 26]\n",
      "a[:2,1:3]=\n",
      "[[12 13]\n",
      " [17 18]]\n",
      "a[:,1]=\n",
      "[12 17 22 27 32]\n",
      "a[::2,::2]=\n",
      "[[11 13 15]\n",
      " [21 23 25]\n",
      " [31 33 35]]\n"
     ]
    }
   ],
   "source": [
    "# %load ch7-4-2.py\n",
    "import numpy as np\n",
    "\n",
    "a = np.arange(11, 36)\n",
    "a = a.reshape(5, 5)\n",
    "print(\"a=\")\n",
    "print(a)\n",
    "\n",
    "b = a[0, 1:4]     # 索引 [0,1~3]\n",
    "print(\"a[0,1:4]=\")\n",
    "print(b)\n",
    "b = a[1:4, 0]     # 索引 [1~3,0]\n",
    "print(\"a[1:4,0]=\")\n",
    "print(b)\n",
    "b = a[:2, 1:3]    # 索引 [0~1,1~2]\n",
    "print(\"a[:2,1:3]=\")\n",
    "print(b)\n",
    "b = a[:, 1]        # 索引 [0~4,1]\n",
    "print(\"a[:,1]=\")\n",
    "print(b)\n",
    "b = a[::2, ::2]   # 索引 [0~2~4,0~2~4]\n",
    "print(\"a[::2,::2]=\")\n",
    "print(b)"
   ]
  },
  {
   "cell_type": "code",
   "execution_count": 71,
   "id": "c8a5fb92-8855-4e16-a1a9-a135a22ff7f3",
   "metadata": {},
   "outputs": [
    {
     "name": "stdout",
     "output_type": "stream",
     "text": [
      "a=\n",
      "[[ 1  2  3]\n",
      " [ 4  5  6]\n",
      " [ 7  8  9]\n",
      " [10 11 12]]\n",
      "a[[0,1,2],[0,1,0]]=\n",
      "[1 5 7]\n",
      "np.array([a[0,0],a[1,1],a[2,0]])\n",
      "[1 5 7]\n",
      "idx=[0 2 0 1]\n",
      "a[np.arange(4),idx]=\n",
      "[ 1  6  7 11]\n",
      "a[np.arange(4), idx] += 10->\n",
      "[[11  2  3]\n",
      " [ 4  5 16]\n",
      " [17  8  9]\n",
      " [10 21 12]]\n"
     ]
    }
   ],
   "source": [
    "# %load ch7-4-3.py\n",
    "import numpy as np\n",
    "\n",
    "a = np.array([[1, 2, 3], [4, 5, 6], [7, 8, 9], [10, 11, 12]])\n",
    "print(\"a=\")\n",
    "print(a)\n",
    "\n",
    "b = a[[0, 1, 2], [0, 1, 0]]   # 索引 [0,0][1,1][2,0]\n",
    "print(\"a[[0,1,2],[0,1,0]]=\")\n",
    "print(b)\n",
    "b = np.array([a[0, 0], a[1, 1], a[2, 0]])  # 索引 [0,0][1,1][2,0]\n",
    "print(\"np.array([a[0,0],a[1,1],a[2,0]])\")\n",
    "print(b)\n",
    "\n",
    "idx = np.array([0, 2, 0, 1])\n",
    "print(\"idx=\" + str(idx))\n",
    "b = a[np.arange(4), idx]     # 索引 [0,0][1,2][2,0][3,1]\n",
    "print(\"a[np.arange(4),idx]=\")\n",
    "print(b)\n",
    "a[np.arange(4), idx] += 10\n",
    "print(\"a[np.arange(4), idx] += 10->\")\n",
    "print(a)"
   ]
  },
  {
   "cell_type": "code",
   "execution_count": 72,
   "id": "3c604350-fbe2-453d-a94c-c0828095afdc",
   "metadata": {},
   "outputs": [
    {
     "name": "stdout",
     "output_type": "stream",
     "text": [
      "a=\n",
      "[[1 2]\n",
      " [3 4]\n",
      " [5 6]]\n",
      "mask=\n",
      "[[False False]\n",
      " [ True  True]\n",
      " [ True  True]]\n",
      "a[mask]=[3 4 5 6]\n",
      "a[a>2]=-1->\n",
      "[[ 1  2]\n",
      " [-1 -1]\n",
      " [-1 -1]]\n"
     ]
    }
   ],
   "source": [
    "# %load ch7-4-3a.py\n",
    "import numpy as np\n",
    "\n",
    "a = np.array([[1, 2], [3, 4], [5, 6]])\n",
    "print(\"a=\")\n",
    "print(a)\n",
    "\n",
    "mask = (a > 2)\n",
    "print(\"mask=\")\n",
    "print(mask)\n",
    "b = a[mask]           # 使用布林值陣列取出值\n",
    "print(\"a[mask]=\" + str(b))\n",
    "a[a > 2] = -1         # 同時更改多個True索引\n",
    "print(\"a[a>2]=-1->\")\n",
    "print(a)"
   ]
  },
  {
   "cell_type": "code",
   "execution_count": 73,
   "id": "3715026e-1624-434d-8045-9d465b4631d1",
   "metadata": {},
   "outputs": [
    {
     "name": "stdout",
     "output_type": "stream",
     "text": [
      "a=\n",
      "[[ 1  2  3]\n",
      " [ 4  5  6]\n",
      " [ 7  8  9]\n",
      " [10 11 12]]\n",
      "a 形狀: (4, 3)\n",
      "b=[1 0 1]\n",
      "b 形狀: (3,)\n",
      "[[ 2  2  4]\n",
      " [ 5  5  7]\n",
      " [ 8  8 10]\n",
      " [11 11 13]]\n"
     ]
    }
   ],
   "source": [
    "# %load ch7-5.py\n",
    "import numpy as np\n",
    "\n",
    "a = np.array([[1, 2, 3], [4, 5, 6], [7, 8, 9], [10, 11, 12]])\n",
    "print(\"a=\")\n",
    "print(a)\n",
    "print(\"a 形狀: \" + str(a.shape))\n",
    "b = np.array([1, 0, 1])\n",
    "print(\"b=\" + str(b))\n",
    "print(\"b 形狀: \" + str(b.shape))\n",
    "\n",
    "c = a + b\n",
    "print(c)"
   ]
  },
  {
   "cell_type": "code",
   "execution_count": 74,
   "id": "891ca1a5-113e-409c-8b17-5b85c64f51dc",
   "metadata": {},
   "outputs": [
    {
     "name": "stdout",
     "output_type": "stream",
     "text": [
      "a=\n",
      "[[1 2 3]\n",
      " [4 5 6]]\n",
      "a.ravel()=[1 2 3 4 5 6]\n",
      "a.flatten()=[1 2 3 4 5 6]\n",
      "np.ravel(a)=[1 2 3 4 5 6]\n"
     ]
    }
   ],
   "source": [
    "# %load ch7-6-1.py\n",
    "import numpy as np\n",
    "\n",
    "a = np.array([[1, 2, 3], [4, 5, 6]])\n",
    "print(\"a=\")\n",
    "print(a)\n",
    "\n",
    "b = a.ravel()\n",
    "print(\"a.ravel()=\" + str(b))\n",
    "c = a.flatten()\n",
    "print(\"a.flatten()=\" + str(c))\n",
    "d = np.ravel(a)\n",
    "print(\"np.ravel(a)=\" + str(d))"
   ]
  },
  {
   "cell_type": "code",
   "execution_count": 75,
   "id": "41daf018-a99c-4231-b189-3bd2e7786948",
   "metadata": {},
   "outputs": [
    {
     "name": "stdout",
     "output_type": "stream",
     "text": [
      "a=[1 2 3 4 5 6]\n",
      "b=np.reshape(a,(3,2))->\n",
      "[[1 2]\n",
      " [3 4]\n",
      " [5 6]]\n",
      "c=b.T->\n",
      "[[1 3 5]\n",
      " [2 4 6]]\n",
      "c=b.transpose()->\n",
      "[[1 3 5]\n",
      " [2 4 6]]\n",
      "c=np.transpose(b)->\n",
      "[[1 3 5]\n",
      " [2 4 6]]\n"
     ]
    }
   ],
   "source": [
    "# %load ch7-6-1a.py\n",
    "import numpy as np\n",
    "\n",
    "a = np.array([1, 2, 3, 4, 5, 6])\n",
    "print(\"a=\" + str(a))\n",
    "\n",
    "b = np.reshape(a, (3, 2))\n",
    "print(\"b=np.reshape(a,(3,2))->\")\n",
    "print(b)\n",
    "c = b.T\n",
    "print(\"c=b.T->\")\n",
    "print(c)\n",
    "c = b.transpose()\n",
    "print(\"c=b.transpose()->\")\n",
    "print(c)\n",
    "c = np.transpose(b)\n",
    "print(\"c=np.transpose(b)->\")\n",
    "print(c)"
   ]
  },
  {
   "cell_type": "code",
   "execution_count": 76,
   "id": "d95d1aa8-7ab8-416f-909f-18b7efc5bd2e",
   "metadata": {},
   "outputs": [
    {
     "name": "stdout",
     "output_type": "stream",
     "text": [
      "a=[1 2 3]\n",
      "b=a[:,np.newaxis]->\n",
      "[[1]\n",
      " [2]\n",
      " [3]]\n",
      "(3, 1)\n",
      "b=a[np.newaxis,:]->\n",
      "[[1 2 3]]\n",
      "(1, 3)\n"
     ]
    }
   ],
   "source": [
    "# %load ch7-6-1b.py\n",
    "import numpy as np\n",
    "\n",
    "a = np.array([1, 2, 3])\n",
    "print(\"a=\" + str(a))\n",
    "\n",
    "b = a[:, np.newaxis]\n",
    "print(\"b=a[:,np.newaxis]->\")\n",
    "print(b)\n",
    "print(b.shape)\n",
    "b = a[np.newaxis, :]\n",
    "print(\"b=a[np.newaxis,:]->\")\n",
    "print(b)\n",
    "print(b.shape)"
   ]
  },
  {
   "cell_type": "code",
   "execution_count": 77,
   "id": "9c37d584-d869-46e2-b303-6ef2f1517201",
   "metadata": {},
   "outputs": [
    {
     "name": "stdout",
     "output_type": "stream",
     "text": [
      "a=[1 2 3]\n",
      "b=a.copy()->[1 2 3]\n",
      "b.fill(0)=[4 4 4]\n",
      "c=np.concatenate((a,b))->[1 2 3 4 4 4]\n"
     ]
    }
   ],
   "source": [
    "# %load ch7-6-1c.py\n",
    "import numpy as np\n",
    "\n",
    "a = np.array([1, 2, 3])\n",
    "print(\"a=\" + str(a))\n",
    "\n",
    "b = a.copy()\n",
    "print(\"b=a.copy()->\" + str(b))\n",
    "b.fill(4)\n",
    "print(\"b.fill(0)=\" + str(b))\n",
    "c = np.concatenate((a, b))\n",
    "print(\"c=np.concatenate((a,b))->\" + str(c))"
   ]
  },
  {
   "cell_type": "code",
   "execution_count": 78,
   "id": "fd6d4d53-8e6b-4a95-8bfb-73435c87bd9a",
   "metadata": {},
   "outputs": [
    {
     "name": "stdout",
     "output_type": "stream",
     "text": [
      "c=np.concatenate((a,b))->\n",
      "[[1 2]\n",
      " [3 4]\n",
      " [5 6]\n",
      " [7 8]]\n",
      "c=np.concatenate((a,b), axis=0)->\n",
      "[[1 2]\n",
      " [3 4]\n",
      " [5 6]\n",
      " [7 8]]\n",
      "c=np.concatenate((a,b), axis=1)->\n",
      "[[1 2 5 6]\n",
      " [3 4 7 8]]\n"
     ]
    }
   ],
   "source": [
    "# %load ch7-6-1d.py\n",
    "import numpy as np\n",
    "\n",
    "a = np.array([[1, 2], [3, 4]])\n",
    "b = np.array([[5, 6], [7, 8]])\n",
    "\n",
    "c = np.concatenate((a, b))\n",
    "print(\"c=np.concatenate((a,b))->\")\n",
    "print(c)\n",
    "c = np.concatenate((a, b), axis=0)\n",
    "print(\"c=np.concatenate((a,b), axis=0)->\")\n",
    "print(c)\n",
    "c = np.concatenate((a, b), axis=1)\n",
    "print(\"c=np.concatenate((a,b), axis=1)->\")\n",
    "print(c)"
   ]
  },
  {
   "cell_type": "code",
   "execution_count": 79,
   "id": "ace9cc22-4e44-4c71-8524-0b6fd09c75ed",
   "metadata": {},
   "outputs": [
    {
     "name": "stdout",
     "output_type": "stream",
     "text": [
      "(2, 4)\n",
      "---------------------------\n",
      "(1, 2, 4) (2, 1, 4)\n",
      "---------------------------\n",
      "(2, 4) (2, 4)\n"
     ]
    }
   ],
   "source": [
    "# %load ch7-6-1e.py\n",
    "import numpy as np\n",
    "\n",
    "a = np.array([[1, 2, 3, 4, 5, 6, 7, 8]])\n",
    "b = a.reshape(2, 4)\n",
    "print(b.shape)\n",
    "print(\"---------------------------\")\n",
    "c = np.expand_dims(b, axis=0)\n",
    "d = np.expand_dims(b, axis=1)\n",
    "print(c.shape, d.shape)\n",
    "print(\"---------------------------\")\n",
    "e = np.squeeze(c)\n",
    "f = np.squeeze(d)\n",
    "print(e.shape, f.shape)"
   ]
  },
  {
   "cell_type": "code",
   "execution_count": 80,
   "id": "eaae1647-3643-47ac-8e13-a0f39cdc1493",
   "metadata": {},
   "outputs": [
    {
     "name": "stdout",
     "output_type": "stream",
     "text": [
      "最小值: 6\n",
      "最大值: 74\n",
      "最小值索引: 5\n",
      "最大值索引: 3\n"
     ]
    }
   ],
   "source": [
    "# %load ch7-6-1f.py\n",
    "import numpy as np\n",
    "\n",
    "a = np.array([[11, 22, 13, 74, 35, 6, 27, 18]])\n",
    "\n",
    "min_value = np.min(a)\n",
    "max_value = np.max(a)\n",
    "print(\"最小值: \" + str(min_value))\n",
    "print(\"最大值: \" + str(max_value))\n",
    "\n",
    "min_idx = np.argmin(a)\n",
    "max_idx = np.argmax(a)\n",
    "print(\"最小值索引: \" + str(min_idx))\n",
    "print(\"最大值索引: \" + str(max_idx))"
   ]
  },
  {
   "cell_type": "code",
   "execution_count": 81,
   "id": "faa618e9-5172-4e1c-85e0-456254dbaa6d",
   "metadata": {},
   "outputs": [
    {
     "name": "stdout",
     "output_type": "stream",
     "text": [
      "0.3367724725390667 0.5269343749958971\n",
      "6 46\n"
     ]
    }
   ],
   "source": [
    "# %load ch7-6-2.py\n",
    "import numpy as np\n",
    "\n",
    "np.random.seed(293423)\n",
    "\n",
    "v1 = np.random.random()\n",
    "v2 = np.random.random()\n",
    "print(v1, v2)\n",
    "v3 = np.random.randint(5, 10)\n",
    "v4 = np.random.randint(1, 101)\n",
    "print(v3, v4)"
   ]
  },
  {
   "cell_type": "code",
   "execution_count": 82,
   "id": "07e5cbab-f9b0-4ea2-a0a5-83413019e286",
   "metadata": {},
   "outputs": [
    {
     "name": "stdout",
     "output_type": "stream",
     "text": [
      "np.random.rand(5)=\n",
      "[0.26955445 0.77197706 0.14482839 0.15020444 0.31065722]\n",
      "np.random.rand(3,2)=\n",
      "[[0.10757354 0.44859732]\n",
      " [0.39866043 0.82548397]\n",
      " [0.48373439 0.52953872]]\n",
      "np.random.randint(5,10,size=5)\n",
      "[5 7 7 7 5]\n",
      "np.random.randint(5,10,size=(2,3))\n",
      "[[6 6 8]\n",
      " [6 6 5]]\n"
     ]
    }
   ],
   "source": [
    "# %load ch7-6-2a.py\n",
    "import numpy as np\n",
    "\n",
    "a = np.random.rand(5)\n",
    "print(\"np.random.rand(5)=\")\n",
    "print(a)\n",
    "b = np.random.rand(3, 2)\n",
    "print(\"np.random.rand(3,2)=\")\n",
    "print(b)\n",
    "c = np.random.randint(5, 10, size=5)\n",
    "print(\"np.random.randint(5,10,size=5)\")\n",
    "print(c)\n",
    "d = np.random.randint(5, 10, size=(2, 3))\n",
    "print(\"np.random.randint(5,10,size=(2,3))\")\n",
    "print(d)"
   ]
  },
  {
   "cell_type": "code",
   "execution_count": 83,
   "id": "0a4e568b-9d09-4e8d-9d66-e4d9dfd07b57",
   "metadata": {},
   "outputs": [
    {
     "name": "stdout",
     "output_type": "stream",
     "text": [
      "[0.5        0.70710678 0.8660254 ]\n",
      "[0.8660254  0.70710678 0.5       ]\n",
      "[0.57735027 1.         1.73205081]\n"
     ]
    }
   ],
   "source": [
    "# %load ch7-6-3.py\n",
    "import numpy as np\n",
    "\n",
    "a = np.array([30, 45, 60])\n",
    "\n",
    "print(np.sin(a*np.pi/180))\n",
    "print(np.cos(a*np.pi/180))\n",
    "print(np.tan(a*np.pi/180))"
   ]
  },
  {
   "cell_type": "code",
   "execution_count": 84,
   "id": "7198e7fa-eb3c-4b92-8f82-bddd2a11b781",
   "metadata": {},
   "outputs": [
    {
     "name": "stdout",
     "output_type": "stream",
     "text": [
      "a=[  1.      5.55  123.      0.567  25.532]\n",
      "[  1.   6. 123.   1.  26.]\n",
      "[  1.    5.6 123.    0.6  25.5]\n",
      "[  0.  10. 120.   0.  30.]\n",
      "a=[-1.7  1.5 -0.2  0.6 10. ]\n",
      "floor()=[-2.  1. -1.  0. 10.]\n",
      "ceil()=[-1.  2. -0.  1. 10.]\n"
     ]
    }
   ],
   "source": [
    "# %load ch7-6-3a.py\n",
    "import numpy as np\n",
    "\n",
    "a = np.array([1.0, 5.55, 123, 0.567, 25.532])\n",
    "print(\"a=\" + str(a))\n",
    "\n",
    "print(np.around(a))\n",
    "print(np.around(a, decimals=1))\n",
    "print(np.around(a, decimals=-1))\n",
    "\n",
    "a = np.array([-1.7, 1.5, -0.2, 0.6, 10])\n",
    "print(\"a=\" + str(a))\n",
    "\n",
    "b = np.floor(a)\n",
    "print(\"floor()=\" + str(b))\n",
    "b = np.ceil(a)\n",
    "print(\"ceil()=\" + str(b))"
   ]
  },
  {
   "cell_type": "code",
   "execution_count": 85,
   "id": "daf6c7bb-aeb8-4fb5-8296-c8847cc19a7c",
   "metadata": {},
   "outputs": [
    {
     "name": "stdout",
     "output_type": "stream",
     "text": [
      "Done!\n"
     ]
    }
   ],
   "source": [
    "print('Done!')"
   ]
  },
  {
   "cell_type": "code",
   "execution_count": null,
   "id": "115cdf07-e5f4-41d3-bcee-f7a1c7a9f2cc",
   "metadata": {},
   "outputs": [],
   "source": []
  }
 ],
 "metadata": {
  "kernelspec": {
   "display_name": "Python 3 (ipykernel)",
   "language": "python",
   "name": "python3"
  },
  "language_info": {
   "codemirror_mode": {
    "name": "ipython",
    "version": 3
   },
   "file_extension": ".py",
   "mimetype": "text/x-python",
   "name": "python",
   "nbconvert_exporter": "python",
   "pygments_lexer": "ipython3",
   "version": "3.8.13"
  }
 },
 "nbformat": 4,
 "nbformat_minor": 5
}
